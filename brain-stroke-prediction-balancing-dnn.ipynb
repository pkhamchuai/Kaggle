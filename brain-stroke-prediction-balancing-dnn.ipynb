{
 "cells": [
  {
   "cell_type": "code",
   "execution_count": 1,
   "id": "e8861851",
   "metadata": {
    "_cell_guid": "b1076dfc-b9ad-4769-8c92-a6c4dae69d19",
    "_uuid": "8f2839f25d086af736a60e9eeb907d3b93b6e0e5",
    "execution": {
     "iopub.execute_input": "2022-08-28T14:23:13.389734Z",
     "iopub.status.busy": "2022-08-28T14:23:13.389122Z",
     "iopub.status.idle": "2022-08-28T14:23:14.561499Z",
     "shell.execute_reply": "2022-08-28T14:23:14.559926Z"
    },
    "papermill": {
     "duration": 1.187097,
     "end_time": "2022-08-28T14:23:14.564463",
     "exception": false,
     "start_time": "2022-08-28T14:23:13.377366",
     "status": "completed"
    },
    "tags": []
   },
   "outputs": [
    {
     "name": "stdout",
     "output_type": "stream",
     "text": [
      "/kaggle/input/full-filled-brain-stroke-dataset/full_data.csv\n",
      "/kaggle/input/full-filled-brain-stroke-dataset/full_filled_stroke_data (1).csv\n"
     ]
    }
   ],
   "source": [
    "# This Python 3 environment comes with many helpful analytics libraries installed\n",
    "# It is defined by the kaggle/python Docker image: https://github.com/kaggle/docker-python\n",
    "# For example, here's several helpful packages to load\n",
    "\n",
    "import numpy as np # linear algebra\n",
    "import pandas as pd # data processing, CSV file I/O (e.g. pd.read_csv)\n",
    "\n",
    "# Input data files are available in the read-only \"../input/\" directory\n",
    "# For example, running this (by clicking run or pressing Shift+Enter) will list all files under the input directory\n",
    "\n",
    "import os\n",
    "for dirname, _, filenames in os.walk('/kaggle/input'):\n",
    "    for filename in filenames:\n",
    "        print(os.path.join(dirname, filename))\n",
    "\n",
    "# You can write up to 20GB to the current directory (/kaggle/working/) that gets preserved as output when you create a version using \"Save & Run All\" \n",
    "# You can also write temporary files to /kaggle/temp/, but they won't be saved outside of the current session\n",
    "\n",
    "import matplotlib.pyplot as plt\n",
    "import seaborn as sns\n",
    "sns.set(style=\"darkgrid\")\n",
    "\n",
    "from sklearn.preprocessing import LabelEncoder\n",
    "from sklearn.metrics import confusion_matrix, classification_report\n",
    "from sklearn.utils import class_weight"
   ]
  },
  {
   "cell_type": "markdown",
   "id": "eaa0d672",
   "metadata": {
    "papermill": {
     "duration": 0.007851,
     "end_time": "2022-08-28T14:23:14.580725",
     "exception": false,
     "start_time": "2022-08-28T14:23:14.572874",
     "status": "completed"
    },
    "tags": []
   },
   "source": [
    "# Summary\n",
    "I'm making a brain stroke prediction model using a neural network (NN). As the data is very biased towards the non-stroke persons (4733: 248), even the class weighting wasn't helped. So I used `RandomOverSampler` from `imblearn.over_sampling` to balance the dataset. After that I trained the model using varied learning rates to find a suitable value, then I trained the model again. The balancing and the chosen learning rate really improved the results. I might come back and try to improve the model again. I'm appreciate for any suggestions. Thank you."
   ]
  },
  {
   "cell_type": "markdown",
   "id": "822e29eb",
   "metadata": {
    "papermill": {
     "duration": 0.007921,
     "end_time": "2022-08-28T14:23:14.596136",
     "exception": false,
     "start_time": "2022-08-28T14:23:14.588215",
     "status": "completed"
    },
    "tags": []
   },
   "source": [
    "# Data processing"
   ]
  },
  {
   "cell_type": "code",
   "execution_count": 2,
   "id": "2335956f",
   "metadata": {
    "execution": {
     "iopub.execute_input": "2022-08-28T14:23:14.613395Z",
     "iopub.status.busy": "2022-08-28T14:23:14.612638Z",
     "iopub.status.idle": "2022-08-28T14:23:14.656497Z",
     "shell.execute_reply": "2022-08-28T14:23:14.655560Z"
    },
    "papermill": {
     "duration": 0.054789,
     "end_time": "2022-08-28T14:23:14.658782",
     "exception": false,
     "start_time": "2022-08-28T14:23:14.603993",
     "status": "completed"
    },
    "tags": []
   },
   "outputs": [
    {
     "data": {
      "text/html": [
       "<div>\n",
       "<style scoped>\n",
       "    .dataframe tbody tr th:only-of-type {\n",
       "        vertical-align: middle;\n",
       "    }\n",
       "\n",
       "    .dataframe tbody tr th {\n",
       "        vertical-align: top;\n",
       "    }\n",
       "\n",
       "    .dataframe thead th {\n",
       "        text-align: right;\n",
       "    }\n",
       "</style>\n",
       "<table border=\"1\" class=\"dataframe\">\n",
       "  <thead>\n",
       "    <tr style=\"text-align: right;\">\n",
       "      <th></th>\n",
       "      <th>gender</th>\n",
       "      <th>age</th>\n",
       "      <th>hypertension</th>\n",
       "      <th>heart_disease</th>\n",
       "      <th>ever_married</th>\n",
       "      <th>work_type</th>\n",
       "      <th>Residence_type</th>\n",
       "      <th>avg_glucose_level</th>\n",
       "      <th>bmi</th>\n",
       "      <th>smoking_status</th>\n",
       "      <th>stroke</th>\n",
       "    </tr>\n",
       "  </thead>\n",
       "  <tbody>\n",
       "    <tr>\n",
       "      <th>0</th>\n",
       "      <td>Male</td>\n",
       "      <td>67.0</td>\n",
       "      <td>0</td>\n",
       "      <td>1</td>\n",
       "      <td>Yes</td>\n",
       "      <td>Private</td>\n",
       "      <td>Urban</td>\n",
       "      <td>228.69</td>\n",
       "      <td>36.6</td>\n",
       "      <td>formerly smoked</td>\n",
       "      <td>1</td>\n",
       "    </tr>\n",
       "    <tr>\n",
       "      <th>1</th>\n",
       "      <td>Male</td>\n",
       "      <td>80.0</td>\n",
       "      <td>0</td>\n",
       "      <td>1</td>\n",
       "      <td>Yes</td>\n",
       "      <td>Private</td>\n",
       "      <td>Rural</td>\n",
       "      <td>105.92</td>\n",
       "      <td>32.5</td>\n",
       "      <td>never smoked</td>\n",
       "      <td>1</td>\n",
       "    </tr>\n",
       "    <tr>\n",
       "      <th>2</th>\n",
       "      <td>Female</td>\n",
       "      <td>49.0</td>\n",
       "      <td>0</td>\n",
       "      <td>0</td>\n",
       "      <td>Yes</td>\n",
       "      <td>Private</td>\n",
       "      <td>Urban</td>\n",
       "      <td>171.23</td>\n",
       "      <td>34.4</td>\n",
       "      <td>smokes</td>\n",
       "      <td>1</td>\n",
       "    </tr>\n",
       "    <tr>\n",
       "      <th>3</th>\n",
       "      <td>Female</td>\n",
       "      <td>79.0</td>\n",
       "      <td>1</td>\n",
       "      <td>0</td>\n",
       "      <td>Yes</td>\n",
       "      <td>Self-employed</td>\n",
       "      <td>Rural</td>\n",
       "      <td>174.12</td>\n",
       "      <td>24.0</td>\n",
       "      <td>never smoked</td>\n",
       "      <td>1</td>\n",
       "    </tr>\n",
       "    <tr>\n",
       "      <th>4</th>\n",
       "      <td>Male</td>\n",
       "      <td>81.0</td>\n",
       "      <td>0</td>\n",
       "      <td>0</td>\n",
       "      <td>Yes</td>\n",
       "      <td>Private</td>\n",
       "      <td>Urban</td>\n",
       "      <td>186.21</td>\n",
       "      <td>29.0</td>\n",
       "      <td>formerly smoked</td>\n",
       "      <td>1</td>\n",
       "    </tr>\n",
       "    <tr>\n",
       "      <th>5</th>\n",
       "      <td>Male</td>\n",
       "      <td>74.0</td>\n",
       "      <td>1</td>\n",
       "      <td>1</td>\n",
       "      <td>Yes</td>\n",
       "      <td>Private</td>\n",
       "      <td>Rural</td>\n",
       "      <td>70.09</td>\n",
       "      <td>27.4</td>\n",
       "      <td>never smoked</td>\n",
       "      <td>1</td>\n",
       "    </tr>\n",
       "    <tr>\n",
       "      <th>6</th>\n",
       "      <td>Female</td>\n",
       "      <td>69.0</td>\n",
       "      <td>0</td>\n",
       "      <td>0</td>\n",
       "      <td>No</td>\n",
       "      <td>Private</td>\n",
       "      <td>Urban</td>\n",
       "      <td>94.39</td>\n",
       "      <td>22.8</td>\n",
       "      <td>never smoked</td>\n",
       "      <td>1</td>\n",
       "    </tr>\n",
       "    <tr>\n",
       "      <th>7</th>\n",
       "      <td>Female</td>\n",
       "      <td>78.0</td>\n",
       "      <td>0</td>\n",
       "      <td>0</td>\n",
       "      <td>Yes</td>\n",
       "      <td>Private</td>\n",
       "      <td>Urban</td>\n",
       "      <td>58.57</td>\n",
       "      <td>24.2</td>\n",
       "      <td>Unknown</td>\n",
       "      <td>1</td>\n",
       "    </tr>\n",
       "    <tr>\n",
       "      <th>8</th>\n",
       "      <td>Female</td>\n",
       "      <td>81.0</td>\n",
       "      <td>1</td>\n",
       "      <td>0</td>\n",
       "      <td>Yes</td>\n",
       "      <td>Private</td>\n",
       "      <td>Rural</td>\n",
       "      <td>80.43</td>\n",
       "      <td>29.7</td>\n",
       "      <td>never smoked</td>\n",
       "      <td>1</td>\n",
       "    </tr>\n",
       "    <tr>\n",
       "      <th>9</th>\n",
       "      <td>Female</td>\n",
       "      <td>61.0</td>\n",
       "      <td>0</td>\n",
       "      <td>1</td>\n",
       "      <td>Yes</td>\n",
       "      <td>Govt_job</td>\n",
       "      <td>Rural</td>\n",
       "      <td>120.46</td>\n",
       "      <td>36.8</td>\n",
       "      <td>smokes</td>\n",
       "      <td>1</td>\n",
       "    </tr>\n",
       "  </tbody>\n",
       "</table>\n",
       "</div>"
      ],
      "text/plain": [
       "   gender   age  hypertension  heart_disease ever_married      work_type  \\\n",
       "0    Male  67.0             0              1          Yes        Private   \n",
       "1    Male  80.0             0              1          Yes        Private   \n",
       "2  Female  49.0             0              0          Yes        Private   \n",
       "3  Female  79.0             1              0          Yes  Self-employed   \n",
       "4    Male  81.0             0              0          Yes        Private   \n",
       "5    Male  74.0             1              1          Yes        Private   \n",
       "6  Female  69.0             0              0           No        Private   \n",
       "7  Female  78.0             0              0          Yes        Private   \n",
       "8  Female  81.0             1              0          Yes        Private   \n",
       "9  Female  61.0             0              1          Yes       Govt_job   \n",
       "\n",
       "  Residence_type  avg_glucose_level   bmi   smoking_status  stroke  \n",
       "0          Urban             228.69  36.6  formerly smoked       1  \n",
       "1          Rural             105.92  32.5     never smoked       1  \n",
       "2          Urban             171.23  34.4           smokes       1  \n",
       "3          Rural             174.12  24.0     never smoked       1  \n",
       "4          Urban             186.21  29.0  formerly smoked       1  \n",
       "5          Rural              70.09  27.4     never smoked       1  \n",
       "6          Urban              94.39  22.8     never smoked       1  \n",
       "7          Urban              58.57  24.2          Unknown       1  \n",
       "8          Rural              80.43  29.7     never smoked       1  \n",
       "9          Rural             120.46  36.8           smokes       1  "
      ]
     },
     "execution_count": 2,
     "metadata": {},
     "output_type": "execute_result"
    }
   ],
   "source": [
    "df = pd.read_csv('../input/full-filled-brain-stroke-dataset/full_data.csv')\n",
    "df.head(10)"
   ]
  },
  {
   "cell_type": "code",
   "execution_count": 3,
   "id": "00b90b15",
   "metadata": {
    "execution": {
     "iopub.execute_input": "2022-08-28T14:23:14.676943Z",
     "iopub.status.busy": "2022-08-28T14:23:14.676274Z",
     "iopub.status.idle": "2022-08-28T14:23:14.683139Z",
     "shell.execute_reply": "2022-08-28T14:23:14.682102Z"
    },
    "papermill": {
     "duration": 0.018733,
     "end_time": "2022-08-28T14:23:14.685969",
     "exception": false,
     "start_time": "2022-08-28T14:23:14.667236",
     "status": "completed"
    },
    "tags": []
   },
   "outputs": [
    {
     "data": {
      "text/plain": [
       "(4981, 11)"
      ]
     },
     "execution_count": 3,
     "metadata": {},
     "output_type": "execute_result"
    }
   ],
   "source": [
    "df.shape"
   ]
  },
  {
   "cell_type": "code",
   "execution_count": 4,
   "id": "a5abd7c1",
   "metadata": {
    "execution": {
     "iopub.execute_input": "2022-08-28T14:23:14.704593Z",
     "iopub.status.busy": "2022-08-28T14:23:14.704282Z",
     "iopub.status.idle": "2022-08-28T14:23:14.739744Z",
     "shell.execute_reply": "2022-08-28T14:23:14.737820Z"
    },
    "papermill": {
     "duration": 0.046924,
     "end_time": "2022-08-28T14:23:14.742208",
     "exception": false,
     "start_time": "2022-08-28T14:23:14.695284",
     "status": "completed"
    },
    "tags": []
   },
   "outputs": [
    {
     "name": "stdout",
     "output_type": "stream",
     "text": [
      "<class 'pandas.core.frame.DataFrame'>\n",
      "RangeIndex: 4981 entries, 0 to 4980\n",
      "Data columns (total 11 columns):\n",
      " #   Column             Non-Null Count  Dtype  \n",
      "---  ------             --------------  -----  \n",
      " 0   gender             4981 non-null   object \n",
      " 1   age                4981 non-null   float64\n",
      " 2   hypertension       4981 non-null   int64  \n",
      " 3   heart_disease      4981 non-null   int64  \n",
      " 4   ever_married       4981 non-null   object \n",
      " 5   work_type          4981 non-null   object \n",
      " 6   Residence_type     4981 non-null   object \n",
      " 7   avg_glucose_level  4981 non-null   float64\n",
      " 8   bmi                4981 non-null   float64\n",
      " 9   smoking_status     4981 non-null   object \n",
      " 10  stroke             4981 non-null   int64  \n",
      "dtypes: float64(3), int64(3), object(5)\n",
      "memory usage: 428.2+ KB\n"
     ]
    }
   ],
   "source": [
    "df.info()"
   ]
  },
  {
   "cell_type": "code",
   "execution_count": 5,
   "id": "552a7bda",
   "metadata": {
    "execution": {
     "iopub.execute_input": "2022-08-28T14:23:14.779803Z",
     "iopub.status.busy": "2022-08-28T14:23:14.779430Z",
     "iopub.status.idle": "2022-08-28T14:23:14.794137Z",
     "shell.execute_reply": "2022-08-28T14:23:14.792968Z"
    },
    "papermill": {
     "duration": 0.039705,
     "end_time": "2022-08-28T14:23:14.800209",
     "exception": false,
     "start_time": "2022-08-28T14:23:14.760504",
     "status": "completed"
    },
    "tags": []
   },
   "outputs": [
    {
     "data": {
      "text/plain": [
       "gender               0\n",
       "age                  0\n",
       "hypertension         0\n",
       "heart_disease        0\n",
       "ever_married         0\n",
       "work_type            0\n",
       "Residence_type       0\n",
       "avg_glucose_level    0\n",
       "bmi                  0\n",
       "smoking_status       0\n",
       "stroke               0\n",
       "dtype: int64"
      ]
     },
     "execution_count": 5,
     "metadata": {},
     "output_type": "execute_result"
    }
   ],
   "source": [
    "df.isnull().sum()"
   ]
  },
  {
   "cell_type": "code",
   "execution_count": 6,
   "id": "e9a3ac80",
   "metadata": {
    "execution": {
     "iopub.execute_input": "2022-08-28T14:23:14.825640Z",
     "iopub.status.busy": "2022-08-28T14:23:14.825285Z",
     "iopub.status.idle": "2022-08-28T14:23:14.834303Z",
     "shell.execute_reply": "2022-08-28T14:23:14.833235Z"
    },
    "papermill": {
     "duration": 0.020859,
     "end_time": "2022-08-28T14:23:14.836447",
     "exception": false,
     "start_time": "2022-08-28T14:23:14.815588",
     "status": "completed"
    },
    "tags": []
   },
   "outputs": [
    {
     "data": {
      "text/plain": [
       "0    4733\n",
       "1     248\n",
       "Name: stroke, dtype: int64"
      ]
     },
     "execution_count": 6,
     "metadata": {},
     "output_type": "execute_result"
    }
   ],
   "source": [
    "df['stroke'].value_counts()"
   ]
  },
  {
   "cell_type": "code",
   "execution_count": 7,
   "id": "5f19f253",
   "metadata": {
    "execution": {
     "iopub.execute_input": "2022-08-28T14:23:14.855175Z",
     "iopub.status.busy": "2022-08-28T14:23:14.854581Z",
     "iopub.status.idle": "2022-08-28T14:23:14.884591Z",
     "shell.execute_reply": "2022-08-28T14:23:14.883278Z"
    },
    "papermill": {
     "duration": 0.041947,
     "end_time": "2022-08-28T14:23:14.887172",
     "exception": false,
     "start_time": "2022-08-28T14:23:14.845225",
     "status": "completed"
    },
    "tags": []
   },
   "outputs": [
    {
     "data": {
      "text/html": [
       "<div>\n",
       "<style scoped>\n",
       "    .dataframe tbody tr th:only-of-type {\n",
       "        vertical-align: middle;\n",
       "    }\n",
       "\n",
       "    .dataframe tbody tr th {\n",
       "        vertical-align: top;\n",
       "    }\n",
       "\n",
       "    .dataframe thead th {\n",
       "        text-align: right;\n",
       "    }\n",
       "</style>\n",
       "<table border=\"1\" class=\"dataframe\">\n",
       "  <thead>\n",
       "    <tr style=\"text-align: right;\">\n",
       "      <th></th>\n",
       "      <th>age</th>\n",
       "      <th>hypertension</th>\n",
       "      <th>heart_disease</th>\n",
       "      <th>avg_glucose_level</th>\n",
       "      <th>bmi</th>\n",
       "      <th>stroke</th>\n",
       "      <th>gender_Female</th>\n",
       "      <th>gender_Male</th>\n",
       "      <th>ever_married_No</th>\n",
       "      <th>ever_married_Yes</th>\n",
       "      <th>work_type_Govt_job</th>\n",
       "      <th>work_type_Private</th>\n",
       "      <th>work_type_Self-employed</th>\n",
       "      <th>work_type_children</th>\n",
       "      <th>Residence_type_Rural</th>\n",
       "      <th>Residence_type_Urban</th>\n",
       "      <th>smoking_status_Unknown</th>\n",
       "      <th>smoking_status_formerly smoked</th>\n",
       "      <th>smoking_status_never smoked</th>\n",
       "      <th>smoking_status_smokes</th>\n",
       "    </tr>\n",
       "  </thead>\n",
       "  <tbody>\n",
       "    <tr>\n",
       "      <th>0</th>\n",
       "      <td>67.0</td>\n",
       "      <td>0</td>\n",
       "      <td>1</td>\n",
       "      <td>228.69</td>\n",
       "      <td>36.6</td>\n",
       "      <td>1</td>\n",
       "      <td>0</td>\n",
       "      <td>1</td>\n",
       "      <td>0</td>\n",
       "      <td>1</td>\n",
       "      <td>0</td>\n",
       "      <td>1</td>\n",
       "      <td>0</td>\n",
       "      <td>0</td>\n",
       "      <td>0</td>\n",
       "      <td>1</td>\n",
       "      <td>0</td>\n",
       "      <td>1</td>\n",
       "      <td>0</td>\n",
       "      <td>0</td>\n",
       "    </tr>\n",
       "    <tr>\n",
       "      <th>1</th>\n",
       "      <td>80.0</td>\n",
       "      <td>0</td>\n",
       "      <td>1</td>\n",
       "      <td>105.92</td>\n",
       "      <td>32.5</td>\n",
       "      <td>1</td>\n",
       "      <td>0</td>\n",
       "      <td>1</td>\n",
       "      <td>0</td>\n",
       "      <td>1</td>\n",
       "      <td>0</td>\n",
       "      <td>1</td>\n",
       "      <td>0</td>\n",
       "      <td>0</td>\n",
       "      <td>1</td>\n",
       "      <td>0</td>\n",
       "      <td>0</td>\n",
       "      <td>0</td>\n",
       "      <td>1</td>\n",
       "      <td>0</td>\n",
       "    </tr>\n",
       "    <tr>\n",
       "      <th>2</th>\n",
       "      <td>49.0</td>\n",
       "      <td>0</td>\n",
       "      <td>0</td>\n",
       "      <td>171.23</td>\n",
       "      <td>34.4</td>\n",
       "      <td>1</td>\n",
       "      <td>1</td>\n",
       "      <td>0</td>\n",
       "      <td>0</td>\n",
       "      <td>1</td>\n",
       "      <td>0</td>\n",
       "      <td>1</td>\n",
       "      <td>0</td>\n",
       "      <td>0</td>\n",
       "      <td>0</td>\n",
       "      <td>1</td>\n",
       "      <td>0</td>\n",
       "      <td>0</td>\n",
       "      <td>0</td>\n",
       "      <td>1</td>\n",
       "    </tr>\n",
       "    <tr>\n",
       "      <th>3</th>\n",
       "      <td>79.0</td>\n",
       "      <td>1</td>\n",
       "      <td>0</td>\n",
       "      <td>174.12</td>\n",
       "      <td>24.0</td>\n",
       "      <td>1</td>\n",
       "      <td>1</td>\n",
       "      <td>0</td>\n",
       "      <td>0</td>\n",
       "      <td>1</td>\n",
       "      <td>0</td>\n",
       "      <td>0</td>\n",
       "      <td>1</td>\n",
       "      <td>0</td>\n",
       "      <td>1</td>\n",
       "      <td>0</td>\n",
       "      <td>0</td>\n",
       "      <td>0</td>\n",
       "      <td>1</td>\n",
       "      <td>0</td>\n",
       "    </tr>\n",
       "    <tr>\n",
       "      <th>4</th>\n",
       "      <td>81.0</td>\n",
       "      <td>0</td>\n",
       "      <td>0</td>\n",
       "      <td>186.21</td>\n",
       "      <td>29.0</td>\n",
       "      <td>1</td>\n",
       "      <td>0</td>\n",
       "      <td>1</td>\n",
       "      <td>0</td>\n",
       "      <td>1</td>\n",
       "      <td>0</td>\n",
       "      <td>1</td>\n",
       "      <td>0</td>\n",
       "      <td>0</td>\n",
       "      <td>0</td>\n",
       "      <td>1</td>\n",
       "      <td>0</td>\n",
       "      <td>1</td>\n",
       "      <td>0</td>\n",
       "      <td>0</td>\n",
       "    </tr>\n",
       "  </tbody>\n",
       "</table>\n",
       "</div>"
      ],
      "text/plain": [
       "    age  hypertension  heart_disease  avg_glucose_level   bmi  stroke  \\\n",
       "0  67.0             0              1             228.69  36.6       1   \n",
       "1  80.0             0              1             105.92  32.5       1   \n",
       "2  49.0             0              0             171.23  34.4       1   \n",
       "3  79.0             1              0             174.12  24.0       1   \n",
       "4  81.0             0              0             186.21  29.0       1   \n",
       "\n",
       "   gender_Female  gender_Male  ever_married_No  ever_married_Yes  \\\n",
       "0              0            1                0                 1   \n",
       "1              0            1                0                 1   \n",
       "2              1            0                0                 1   \n",
       "3              1            0                0                 1   \n",
       "4              0            1                0                 1   \n",
       "\n",
       "   work_type_Govt_job  work_type_Private  work_type_Self-employed  \\\n",
       "0                   0                  1                        0   \n",
       "1                   0                  1                        0   \n",
       "2                   0                  1                        0   \n",
       "3                   0                  0                        1   \n",
       "4                   0                  1                        0   \n",
       "\n",
       "   work_type_children  Residence_type_Rural  Residence_type_Urban  \\\n",
       "0                   0                     0                     1   \n",
       "1                   0                     1                     0   \n",
       "2                   0                     0                     1   \n",
       "3                   0                     1                     0   \n",
       "4                   0                     0                     1   \n",
       "\n",
       "   smoking_status_Unknown  smoking_status_formerly smoked  \\\n",
       "0                       0                               1   \n",
       "1                       0                               0   \n",
       "2                       0                               0   \n",
       "3                       0                               0   \n",
       "4                       0                               1   \n",
       "\n",
       "   smoking_status_never smoked  smoking_status_smokes  \n",
       "0                            0                      0  \n",
       "1                            1                      0  \n",
       "2                            0                      1  \n",
       "3                            1                      0  \n",
       "4                            0                      0  "
      ]
     },
     "execution_count": 7,
     "metadata": {},
     "output_type": "execute_result"
    }
   ],
   "source": [
    "dataset = pd.get_dummies(df)\n",
    "dataset.head()"
   ]
  },
  {
   "cell_type": "code",
   "execution_count": 8,
   "id": "605756c1",
   "metadata": {
    "execution": {
     "iopub.execute_input": "2022-08-28T14:23:14.910586Z",
     "iopub.status.busy": "2022-08-28T14:23:14.908421Z",
     "iopub.status.idle": "2022-08-28T14:23:14.916627Z",
     "shell.execute_reply": "2022-08-28T14:23:14.915525Z"
    },
    "papermill": {
     "duration": 0.021645,
     "end_time": "2022-08-28T14:23:14.919198",
     "exception": false,
     "start_time": "2022-08-28T14:23:14.897553",
     "status": "completed"
    },
    "tags": []
   },
   "outputs": [],
   "source": [
    "X = dataset.copy()\n",
    "y = X.pop('stroke')"
   ]
  },
  {
   "cell_type": "code",
   "execution_count": 9,
   "id": "590ee167",
   "metadata": {
    "execution": {
     "iopub.execute_input": "2022-08-28T14:23:14.940049Z",
     "iopub.status.busy": "2022-08-28T14:23:14.938408Z",
     "iopub.status.idle": "2022-08-28T14:23:15.167495Z",
     "shell.execute_reply": "2022-08-28T14:23:15.166514Z"
    },
    "papermill": {
     "duration": 0.241339,
     "end_time": "2022-08-28T14:23:15.169720",
     "exception": false,
     "start_time": "2022-08-28T14:23:14.928381",
     "status": "completed"
    },
    "tags": []
   },
   "outputs": [
    {
     "data": {
      "image/png": "[encoded data removed]",
      "text/plain": [
       "<Figure size 432x288 with 1 Axes>"
      ]
     },
     "metadata": {},
     "output_type": "display_data"
    }
   ],
   "source": [
    "ax = sns.countplot(x=y)"
   ]
  },
  {
   "cell_type": "markdown",
   "id": "eacef015",
   "metadata": {
    "papermill": {
     "duration": 0.009203,
     "end_time": "2022-08-28T14:23:15.188742",
     "exception": false,
     "start_time": "2022-08-28T14:23:15.179539",
     "status": "completed"
    },
    "tags": []
   },
   "source": [
    "## Balance the dataset\n",
    "It can be seen that the classes are highly biased. I tried a class balancing but the performance on the smaller class was still bad (precision 0.14)."
   ]
  },
  {
   "cell_type": "code",
   "execution_count": 10,
   "id": "7d8ab958",
   "metadata": {
    "execution": {
     "iopub.execute_input": "2022-08-28T14:23:15.210515Z",
     "iopub.status.busy": "2022-08-28T14:23:15.208559Z",
     "iopub.status.idle": "2022-08-28T14:23:15.526219Z",
     "shell.execute_reply": "2022-08-28T14:23:15.525093Z"
    },
    "papermill": {
     "duration": 0.331665,
     "end_time": "2022-08-28T14:23:15.529635",
     "exception": false,
     "start_time": "2022-08-28T14:23:15.197970",
     "status": "completed"
    },
    "tags": []
   },
   "outputs": [],
   "source": [
    "from imblearn.over_sampling import RandomOverSampler\n",
    "ros = RandomOverSampler(random_state=0)\n",
    "X, y = ros.fit_resample(X, y)"
   ]
  },
  {
   "cell_type": "code",
   "execution_count": 11,
   "id": "0c923284",
   "metadata": {
    "execution": {
     "iopub.execute_input": "2022-08-28T14:23:15.551426Z",
     "iopub.status.busy": "2022-08-28T14:23:15.550788Z",
     "iopub.status.idle": "2022-08-28T14:23:15.748708Z",
     "shell.execute_reply": "2022-08-28T14:23:15.747681Z"
    },
    "papermill": {
     "duration": 0.210971,
     "end_time": "2022-08-28T14:23:15.751240",
     "exception": false,
     "start_time": "2022-08-28T14:23:15.540269",
     "status": "completed"
    },
    "tags": []
   },
   "outputs": [
    {
     "data": {
      "image/png": "[encoded data removed]",
      "text/plain": [
       "<Figure size 432x288 with 1 Axes>"
      ]
     },
     "metadata": {},
     "output_type": "display_data"
    }
   ],
   "source": [
    "ax = sns.countplot(x=y)"
   ]
  },
  {
   "cell_type": "markdown",
   "id": "fa78608f",
   "metadata": {
    "papermill": {
     "duration": 0.00989,
     "end_time": "2022-08-28T14:23:15.771504",
     "exception": false,
     "start_time": "2022-08-28T14:23:15.761614",
     "status": "completed"
    },
    "tags": []
   },
   "source": [
    "## Train-/test dataset split"
   ]
  },
  {
   "cell_type": "code",
   "execution_count": 12,
   "id": "867dc760",
   "metadata": {
    "execution": {
     "iopub.execute_input": "2022-08-28T14:23:15.811602Z",
     "iopub.status.busy": "2022-08-28T14:23:15.810893Z",
     "iopub.status.idle": "2022-08-28T14:23:15.817400Z",
     "shell.execute_reply": "2022-08-28T14:23:15.816250Z"
    },
    "papermill": {
     "duration": 0.036635,
     "end_time": "2022-08-28T14:23:15.826138",
     "exception": false,
     "start_time": "2022-08-28T14:23:15.789503",
     "status": "completed"
    },
    "tags": []
   },
   "outputs": [],
   "source": [
    "from sklearn.model_selection import train_test_split"
   ]
  },
  {
   "cell_type": "code",
   "execution_count": 13,
   "id": "066c96d6",
   "metadata": {
    "execution": {
     "iopub.execute_input": "2022-08-28T14:23:15.865528Z",
     "iopub.status.busy": "2022-08-28T14:23:15.864634Z",
     "iopub.status.idle": "2022-08-28T14:23:15.896361Z",
     "shell.execute_reply": "2022-08-28T14:23:15.895073Z"
    },
    "papermill": {
     "duration": 0.056419,
     "end_time": "2022-08-28T14:23:15.900048",
     "exception": false,
     "start_time": "2022-08-28T14:23:15.843629",
     "status": "completed"
    },
    "tags": []
   },
   "outputs": [
    {
     "data": {
      "text/plain": [
       "array([0.81689453, 0.        , 1.        , 0.80126489, 0.64756447,\n",
       "       0.        , 1.        , 0.        , 1.        , 0.        ,\n",
       "       1.        , 0.        , 0.        , 0.        , 1.        ,\n",
       "       0.        , 1.        , 0.        , 0.        ])"
      ]
     },
     "execution_count": 13,
     "metadata": {},
     "output_type": "execute_result"
    }
   ],
   "source": [
    "# Normalize the X \n",
    "from sklearn.preprocessing import MinMaxScaler\n",
    "obj_norm = MinMaxScaler().fit(X)\n",
    "X_normalized = obj_norm.transform(X)\n",
    "X_normalized[0]"
   ]
  },
  {
   "cell_type": "code",
   "execution_count": 14,
   "id": "a644cd9f",
   "metadata": {
    "execution": {
     "iopub.execute_input": "2022-08-28T14:23:15.952250Z",
     "iopub.status.busy": "2022-08-28T14:23:15.951418Z",
     "iopub.status.idle": "2022-08-28T14:23:15.967596Z",
     "shell.execute_reply": "2022-08-28T14:23:15.966543Z"
    },
    "papermill": {
     "duration": 0.040165,
     "end_time": "2022-08-28T14:23:15.970186",
     "exception": false,
     "start_time": "2022-08-28T14:23:15.930021",
     "status": "completed"
    },
    "tags": []
   },
   "outputs": [],
   "source": [
    "train_features, test_features, train_labels, test_labels = train_test_split(X_normalized, y, test_size = 0.3, random_state = 0)"
   ]
  },
  {
   "cell_type": "code",
   "execution_count": 15,
   "id": "0b325b1f",
   "metadata": {
    "execution": {
     "iopub.execute_input": "2022-08-28T14:23:16.001214Z",
     "iopub.status.busy": "2022-08-28T14:23:16.000564Z",
     "iopub.status.idle": "2022-08-28T14:23:16.011210Z",
     "shell.execute_reply": "2022-08-28T14:23:16.010169Z"
    },
    "papermill": {
     "duration": 0.029048,
     "end_time": "2022-08-28T14:23:16.014058",
     "exception": false,
     "start_time": "2022-08-28T14:23:15.985010",
     "status": "completed"
    },
    "tags": []
   },
   "outputs": [
    {
     "data": {
      "text/plain": [
       "((6626, 19), (6626,))"
      ]
     },
     "execution_count": 15,
     "metadata": {},
     "output_type": "execute_result"
    }
   ],
   "source": [
    "train_features.shape, train_labels.shape"
   ]
  },
  {
   "cell_type": "code",
   "execution_count": 16,
   "id": "d2338231",
   "metadata": {
    "execution": {
     "iopub.execute_input": "2022-08-28T14:23:16.042911Z",
     "iopub.status.busy": "2022-08-28T14:23:16.042544Z",
     "iopub.status.idle": "2022-08-28T14:23:16.049169Z",
     "shell.execute_reply": "2022-08-28T14:23:16.048186Z"
    },
    "papermill": {
     "duration": 0.026819,
     "end_time": "2022-08-28T14:23:16.054823",
     "exception": false,
     "start_time": "2022-08-28T14:23:16.028004",
     "status": "completed"
    },
    "tags": []
   },
   "outputs": [
    {
     "data": {
      "text/plain": [
       "((2840, 19), (2840,))"
      ]
     },
     "execution_count": 16,
     "metadata": {},
     "output_type": "execute_result"
    }
   ],
   "source": [
    "test_features.shape, test_labels.shape"
   ]
  },
  {
   "cell_type": "markdown",
   "id": "0325fbd6",
   "metadata": {
    "papermill": {
     "duration": 0.013923,
     "end_time": "2022-08-28T14:23:16.082929",
     "exception": false,
     "start_time": "2022-08-28T14:23:16.069006",
     "status": "completed"
    },
    "tags": []
   },
   "source": [
    "# Regression with a deep neural network (DNN)"
   ]
  },
  {
   "cell_type": "code",
   "execution_count": 17,
   "id": "7efc2172",
   "metadata": {
    "execution": {
     "iopub.execute_input": "2022-08-28T14:23:16.113438Z",
     "iopub.status.busy": "2022-08-28T14:23:16.112996Z",
     "iopub.status.idle": "2022-08-28T14:23:24.454625Z",
     "shell.execute_reply": "2022-08-28T14:23:24.453609Z"
    },
    "papermill": {
     "duration": 8.359306,
     "end_time": "2022-08-28T14:23:24.456689",
     "exception": false,
     "start_time": "2022-08-28T14:23:16.097383",
     "status": "completed"
    },
    "tags": []
   },
   "outputs": [
    {
     "name": "stdout",
     "output_type": "stream",
     "text": [
      "2.6.4\n",
      "Found GPU at: /device:GPU:0\n"
     ]
    },
    {
     "name": "stderr",
     "output_type": "stream",
     "text": [
      "2022-08-28 14:23:21.759420: I tensorflow/core/platform/cpu_feature_guard.cc:142] This TensorFlow binary is optimized with oneAPI Deep Neural Network Library (oneDNN) to use the following CPU instructions in performance-critical operations:  AVX2 AVX512F FMA\n",
      "To enable them in other operations, rebuild TensorFlow with the appropriate compiler flags.\n",
      "2022-08-28 14:23:21.829200: I tensorflow/stream_executor/cuda/cuda_gpu_executor.cc:937] successful NUMA node read from SysFS had negative value (-1), but there must be at least one NUMA node, so returning NUMA node zero\n",
      "2022-08-28 14:23:21.959790: I tensorflow/stream_executor/cuda/cuda_gpu_executor.cc:937] successful NUMA node read from SysFS had negative value (-1), but there must be at least one NUMA node, so returning NUMA node zero\n",
      "2022-08-28 14:23:21.960780: I tensorflow/stream_executor/cuda/cuda_gpu_executor.cc:937] successful NUMA node read from SysFS had negative value (-1), but there must be at least one NUMA node, so returning NUMA node zero\n",
      "2022-08-28 14:23:24.437520: I tensorflow/stream_executor/cuda/cuda_gpu_executor.cc:937] successful NUMA node read from SysFS had negative value (-1), but there must be at least one NUMA node, so returning NUMA node zero\n",
      "2022-08-28 14:23:24.438538: I tensorflow/stream_executor/cuda/cuda_gpu_executor.cc:937] successful NUMA node read from SysFS had negative value (-1), but there must be at least one NUMA node, so returning NUMA node zero\n",
      "2022-08-28 14:23:24.439523: I tensorflow/stream_executor/cuda/cuda_gpu_executor.cc:937] successful NUMA node read from SysFS had negative value (-1), but there must be at least one NUMA node, so returning NUMA node zero\n",
      "2022-08-28 14:23:24.440407: I tensorflow/core/common_runtime/gpu/gpu_device.cc:1510] Created device /device:GPU:0 with 15401 MB memory:  -> device: 0, name: Tesla P100-PCIE-16GB, pci bus id: 0000:00:04.0, compute capability: 6.0\n"
     ]
    }
   ],
   "source": [
    "import tensorflow as tf\n",
    "from tensorflow.keras import Sequential, layers, losses\n",
    "from tensorflow.keras.callbacks import EarlyStopping, LearningRateScheduler\n",
    "from tensorflow.keras.optimizers import Adam\n",
    "\n",
    "print(tf.__version__)\n",
    "device_name = tf.test.gpu_device_name()\n",
    "if \"GPU\" not in device_name:\n",
    "    print(\"GPU device not found\")\n",
    "print('Found GPU at: {}'.format(device_name))"
   ]
  },
  {
   "cell_type": "code",
   "execution_count": 18,
   "id": "465a4e76",
   "metadata": {
    "execution": {
     "iopub.execute_input": "2022-08-28T14:23:24.477818Z",
     "iopub.status.busy": "2022-08-28T14:23:24.477241Z",
     "iopub.status.idle": "2022-08-28T14:23:24.488451Z",
     "shell.execute_reply": "2022-08-28T14:23:24.485621Z"
    },
    "papermill": {
     "duration": 0.027587,
     "end_time": "2022-08-28T14:23:24.494174",
     "exception": false,
     "start_time": "2022-08-28T14:23:24.466587",
     "status": "completed"
    },
    "tags": []
   },
   "outputs": [
    {
     "name": "stdout",
     "output_type": "stream",
     "text": [
      "[INFO] Class weighting...\n",
      "{0: 1.0024205748865356, 1: 0.9975910870219813}\n"
     ]
    }
   ],
   "source": [
    "# Class weighting\n",
    "print(\"[INFO] Class weighting...\")\n",
    "class_weights = class_weight.compute_class_weight('balanced', \n",
    "                                                  classes=np.unique(np.ravel(train_labels, order='C')),\n",
    "                                                  y=np.ravel(train_labels, order='C'))\n",
    "\n",
    "class_weight_dict = dict(enumerate(class_weights))\n",
    "print(class_weight_dict)"
   ]
  },
  {
   "cell_type": "code",
   "execution_count": 19,
   "id": "9b00271e",
   "metadata": {
    "execution": {
     "iopub.execute_input": "2022-08-28T14:23:24.514505Z",
     "iopub.status.busy": "2022-08-28T14:23:24.514159Z",
     "iopub.status.idle": "2022-08-28T14:23:24.521610Z",
     "shell.execute_reply": "2022-08-28T14:23:24.520451Z"
    },
    "papermill": {
     "duration": 0.019691,
     "end_time": "2022-08-28T14:23:24.523569",
     "exception": false,
     "start_time": "2022-08-28T14:23:24.503878",
     "status": "completed"
    },
    "tags": []
   },
   "outputs": [],
   "source": [
    "def plot_cm(labels, predictions, p=0.5):\n",
    "    cm = confusion_matrix(labels, predictions > p)\n",
    "    plt.figure(figsize=(8,8))\n",
    "    sns.heatmap(cm, annot=True, fmt=\"d\")\n",
    "    plt.title('Confusion matrix')\n",
    "    plt.ylabel('Actual label')\n",
    "    plt.xlabel('Predicted label')\n",
    "\n",
    "    print(f'Actual is 0 and Prediction is 0: ', cm[0][0])\n",
    "    print(f'Actual is 0 and Prediction is 1: ', cm[0][1])\n",
    "    print(f'Actual is 1 and Prediction is 0: ', cm[1][0])\n",
    "    print(f'Actual is 1 and Prediction is 1: ', cm[1][1])\n",
    "    print(f'Total Correct Prediction: {np.sum(cm[0][0] + cm[1][1])} / {np.sum(cm)}')"
   ]
  },
  {
   "cell_type": "markdown",
   "id": "e0025c7c",
   "metadata": {
    "papermill": {
     "duration": 0.009063,
     "end_time": "2022-08-28T14:23:24.542462",
     "exception": false,
     "start_time": "2022-08-28T14:23:24.533399",
     "status": "completed"
    },
    "tags": []
   },
   "source": [
    "## Callbacks on varied learning rate"
   ]
  },
  {
   "cell_type": "code",
   "execution_count": 20,
   "id": "07ffd2b9",
   "metadata": {
    "execution": {
     "iopub.execute_input": "2022-08-28T14:23:24.563346Z",
     "iopub.status.busy": "2022-08-28T14:23:24.563034Z",
     "iopub.status.idle": "2022-08-28T14:23:24.982578Z",
     "shell.execute_reply": "2022-08-28T14:23:24.980814Z"
    },
    "papermill": {
     "duration": 0.432444,
     "end_time": "2022-08-28T14:23:24.984740",
     "exception": false,
     "start_time": "2022-08-28T14:23:24.552296",
     "status": "completed"
    },
    "tags": []
   },
   "outputs": [
    {
     "name": "stderr",
     "output_type": "stream",
     "text": [
      "2022-08-28 14:23:24.593038: I tensorflow/stream_executor/cuda/cuda_gpu_executor.cc:937] successful NUMA node read from SysFS had negative value (-1), but there must be at least one NUMA node, so returning NUMA node zero\n",
      "2022-08-28 14:23:24.594064: I tensorflow/stream_executor/cuda/cuda_gpu_executor.cc:937] successful NUMA node read from SysFS had negative value (-1), but there must be at least one NUMA node, so returning NUMA node zero\n",
      "2022-08-28 14:23:24.594796: I tensorflow/stream_executor/cuda/cuda_gpu_executor.cc:937] successful NUMA node read from SysFS had negative value (-1), but there must be at least one NUMA node, so returning NUMA node zero\n",
      "2022-08-28 14:23:24.595759: I tensorflow/stream_executor/cuda/cuda_gpu_executor.cc:937] successful NUMA node read from SysFS had negative value (-1), but there must be at least one NUMA node, so returning NUMA node zero\n",
      "2022-08-28 14:23:24.596480: I tensorflow/stream_executor/cuda/cuda_gpu_executor.cc:937] successful NUMA node read from SysFS had negative value (-1), but there must be at least one NUMA node, so returning NUMA node zero\n",
      "2022-08-28 14:23:24.597161: I tensorflow/stream_executor/cuda/cuda_gpu_executor.cc:937] successful NUMA node read from SysFS had negative value (-1), but there must be at least one NUMA node, so returning NUMA node zero\n",
      "2022-08-28 14:23:24.597928: I tensorflow/stream_executor/cuda/cuda_gpu_executor.cc:937] successful NUMA node read from SysFS had negative value (-1), but there must be at least one NUMA node, so returning NUMA node zero\n",
      "2022-08-28 14:23:24.598672: I tensorflow/stream_executor/cuda/cuda_gpu_executor.cc:937] successful NUMA node read from SysFS had negative value (-1), but there must be at least one NUMA node, so returning NUMA node zero\n",
      "2022-08-28 14:23:24.599347: I tensorflow/core/common_runtime/gpu/gpu_device.cc:1510] Created device /job:localhost/replica:0/task:0/device:GPU:0 with 15401 MB memory:  -> device: 0, name: Tesla P100-PCIE-16GB, pci bus id: 0000:00:04.0, compute capability: 6.0\n"
     ]
    }
   ],
   "source": [
    "model = Sequential([\n",
    "      layers.Dense(128, activation='relu'),\n",
    "      layers.Dropout(0.3),\n",
    "      layers.Dense(128, activation='relu'),\n",
    "      layers.Dropout(0.3),\n",
    "      layers.Dense(1, activation='sigmoid')\n",
    "  ])"
   ]
  },
  {
   "cell_type": "code",
   "execution_count": 21,
   "id": "35f5d4a0",
   "metadata": {
    "execution": {
     "iopub.execute_input": "2022-08-28T14:23:25.007053Z",
     "iopub.status.busy": "2022-08-28T14:23:25.006116Z",
     "iopub.status.idle": "2022-08-28T14:23:25.025771Z",
     "shell.execute_reply": "2022-08-28T14:23:25.024893Z"
    },
    "papermill": {
     "duration": 0.033123,
     "end_time": "2022-08-28T14:23:25.027952",
     "exception": false,
     "start_time": "2022-08-28T14:23:24.994829",
     "status": "completed"
    },
    "tags": []
   },
   "outputs": [],
   "source": [
    "EPOCHS = 150\n",
    "INIT_LR = 1e-1\n",
    "lr_schedule = LearningRateScheduler(\n",
    "    lambda epoch: 1e-8 * 10**(epoch/20))\n",
    "optim_LR = Adam(learning_rate=INIT_LR, decay=INIT_LR / EPOCHS)\n",
    "\n",
    "model.compile(optimizer=optim_LR, \n",
    "              loss=losses.binary_crossentropy, metrics=['accuracy'])"
   ]
  },
  {
   "cell_type": "code",
   "execution_count": 22,
   "id": "25b328a1",
   "metadata": {
    "execution": {
     "iopub.execute_input": "2022-08-28T14:23:25.048725Z",
     "iopub.status.busy": "2022-08-28T14:23:25.048429Z",
     "iopub.status.idle": "2022-08-28T14:24:47.639557Z",
     "shell.execute_reply": "2022-08-28T14:24:47.638538Z"
    },
    "papermill": {
     "duration": 82.607935,
     "end_time": "2022-08-28T14:24:47.645889",
     "exception": false,
     "start_time": "2022-08-28T14:23:25.037954",
     "status": "completed"
    },
    "tags": []
   },
   "outputs": [
    {
     "name": "stderr",
     "output_type": "stream",
     "text": [
      "2022-08-28 14:23:25.130579: I tensorflow/compiler/mlir/mlir_graph_optimization_pass.cc:185] None of the MLIR Optimization Passes are enabled (registered 2)\n"
     ]
    },
    {
     "name": "stdout",
     "output_type": "stream",
     "text": [
      "CPU times: user 1min 29s, sys: 10.6 s, total: 1min 40s\n",
      "Wall time: 1min 22s\n"
     ]
    }
   ],
   "source": [
    "%%time\n",
    "history = model.fit(\n",
    "    train_features,\n",
    "    train_labels,\n",
    "    epochs=EPOCHS,\n",
    "    verbose=0,\n",
    "    validation_split = 0.2,\n",
    "    callbacks=[lr_schedule],\n",
    "    class_weight=class_weight_dict)"
   ]
  },
  {
   "cell_type": "code",
   "execution_count": 23,
   "id": "2ccae0c6",
   "metadata": {
    "execution": {
     "iopub.execute_input": "2022-08-28T14:24:47.666320Z",
     "iopub.status.busy": "2022-08-28T14:24:47.666018Z",
     "iopub.status.idle": "2022-08-28T14:24:47.673867Z",
     "shell.execute_reply": "2022-08-28T14:24:47.672790Z"
    },
    "papermill": {
     "duration": 0.020953,
     "end_time": "2022-08-28T14:24:47.676214",
     "exception": false,
     "start_time": "2022-08-28T14:24:47.655261",
     "status": "completed"
    },
    "tags": []
   },
   "outputs": [],
   "source": [
    "# plot the training results to see the loss against LR\n",
    "lrs = 1e-8 * 10**(np.arange(EPOCHS)/20)"
   ]
  },
  {
   "cell_type": "code",
   "execution_count": 24,
   "id": "e94be46a",
   "metadata": {
    "execution": {
     "iopub.execute_input": "2022-08-28T14:24:47.697295Z",
     "iopub.status.busy": "2022-08-28T14:24:47.696746Z",
     "iopub.status.idle": "2022-08-28T14:24:50.391897Z",
     "shell.execute_reply": "2022-08-28T14:24:50.390831Z"
    },
    "papermill": {
     "duration": 2.708148,
     "end_time": "2022-08-28T14:24:50.394117",
     "exception": false,
     "start_time": "2022-08-28T14:24:47.685969",
     "status": "completed"
    },
    "tags": []
   },
   "outputs": [
    {
     "data": {
      "text/html": [
       "        <script type=\"text/javascript\">\n",
       "        window.PlotlyConfig = {MathJaxConfig: 'local'};\n",
       "        if (window.MathJax && window.MathJax.Hub && window.MathJax.Hub.Config) {window.MathJax.Hub.Config({SVG: {font: \"STIX-Web\"}});}\n",
       "        if (typeof require !== 'undefined') {\n",
       "        require.undef(\"plotly\");\n",
       "        requirejs.config({\n",
       "            paths: {\n",
       "                'plotly': ['https://cdn.plot.ly/plotly-2.14.0.min']\n",
       "            }\n",
       "        });\n",
       "        require(['plotly'], function(Plotly) {\n",
       "            window._Plotly = Plotly;\n",
       "        });\n",
       "        }\n",
       "        </script>\n",
       "        "
      ]
     },
     "metadata": {},
     "output_type": "display_data"
    },
    {
     "data": {
      "text/html": [
       "<div>                            <div id=\"c89f79a6-b92f-4cfe-a3d6-bfeafe890c8c\" class=\"plotly-graph-div\" style=\"height:525px; width:100%;\"></div>            <script type=\"text/javascript\">                require([\"plotly\"], function(Plotly) {                    window.PLOTLYENV=window.PLOTLYENV || {};                                    if (document.getElementById(\"c89f79a6-b92f-4cfe-a3d6-bfeafe890c8c\")) {                    Plotly.newPlot(                        \"c89f79a6-b92f-4cfe-a3d6-bfeafe890c8c\",                        [{\"hovertemplate\":\"x=%{x}<br>y=%{y}<extra></extra>\",\"legendgroup\":\"\",\"line\":{\"color\":\"#636efa\",\"dash\":\"solid\"},\"marker\":{\"symbol\":\"circle\"},\"mode\":\"lines\",\"name\":\"\",\"orientation\":\"v\",\"showlegend\":false,\"x\":[1e-8,1.1220184543019634e-8,1.2589254117941673e-8,1.4125375446227544e-8,1.5848931924611136e-8,1.7782794100389228e-8,1.9952623149688796e-8,2.2387211385683395e-8,2.51188643150958e-8,2.8183829312644537e-8,3.16227766016838e-8,3.548133892335755e-8,3.981071705534972e-8,4.466835921509632e-8,5.011872336272722e-8,5.623413251903491e-8,6.309573444801934e-8,7.079457843841378e-8,7.943282347242815e-8,8.912509381337454e-8,1e-7,1.1220184543019637e-7,1.2589254117941675e-7,1.4125375446227541e-7,1.5848931924611133e-7,1.778279410038923e-7,1.9952623149688798e-7,2.23872113856834e-7,2.5118864315095796e-7,2.8183829312644533e-7,3.162277660168379e-7,3.5481338923357547e-7,3.9810717055349735e-7,4.46683592150963e-7,5.011872336272723e-7,5.623413251903491e-7,6.309573444801933e-7,7.079457843841381e-7,7.943282347242815e-7,8.912509381337455e-7,1e-6,1.122018454301963e-6,1.2589254117941676e-6,1.412537544622754e-6,1.5848931924611143e-6,1.778279410038923e-6,1.9952623149688787e-6,2.23872113856834e-6,2.5118864315095797e-6,2.8183829312644547e-6,3.1622776601683796e-6,3.5481338923357534e-6,3.981071705534973e-6,4.46683592150963e-6,5.011872336272725e-6,5.62341325190349e-6,6.3095734448019305e-6,7.079457843841381e-6,7.943282347242813e-6,8.91250938133746e-6,0.00001,0.00001122018454301963,0.000012589254117941676,0.00001412537544622754,0.00001584893192461114,0.00001778279410038923,0.00001995262314968879,0.0000223872113856834,0.000025118864315095798,0.00002818382931264455,0.000031622776601683795,0.000035481338923357534,0.000039810717055349735,0.00004466835921509631,0.00005011872336272725,0.000056234132519034914,0.0000630957344480193,0.00007079457843841381,0.00007943282347242814,0.00008912509381337459,0.0001,0.0001122018454301963,0.00012589254117941664,0.00014125375446227554,0.00015848931924611142,0.00017782794100389227,0.0001995262314968879,0.00022387211385683378,0.0002511886431509582,0.0002818382931264455,0.00031622776601683794,0.0003548133892335753,0.0003981071705534969,0.0004466835921509635,0.0005011872336272725,0.0005623413251903491,0.000630957344480193,0.0007079457843841374,0.0007943282347242821,0.0008912509381337459,0.001,0.001122018454301963,0.0012589254117941662,0.0014125375446227555,0.001584893192461114,0.0017782794100389228,0.001995262314968879,0.0022387211385683377,0.002511886431509582,0.0028183829312644552,0.003162277660168379,0.0035481338923357532,0.003981071705534969,0.004466835921509635,0.005011872336272725,0.005623413251903492,0.00630957344480193,0.0070794578438413735,0.007943282347242822,0.008912509381337459,0.01,0.011220184543019629,0.012589254117941661,0.014125375446227554,0.01584893192461114,0.01778279410038923,0.01995262314968879,0.02238721138568338,0.025118864315095822,0.02818382931264455,0.0316227766016838,0.03548133892335753,0.03981071705534969,0.04466835921509635,0.05011872336272725,0.05623413251903491,0.0630957344480193,0.07079457843841373,0.07943282347242822,0.08912509381337458,0.1,0.1122018454301963,0.12589254117941662,0.14125375446227553,0.15848931924611143,0.17782794100389226,0.1995262314968879,0.22387211385683375,0.25118864315095824,0.2818382931264455],\"xaxis\":\"x\",\"y\":[0.714454174041748,0.7171193361282349,0.7163699865341187,0.7163369059562683,0.717178225517273,0.7151668667793274,0.7174038290977478,0.7163112163543701,0.7160155177116394,0.7160379886627197,0.7176061272621155,0.7161539793014526,0.7161980867385864,0.718081533908844,0.716651976108551,0.7188125848770142,0.7153019905090332,0.7194068431854248,0.717170774936676,0.7164967656135559,0.7166643738746643,0.7157971262931824,0.7166046500205994,0.7150105237960815,0.7151109576225281,0.7159656286239624,0.7182825803756714,0.7156776785850525,0.7172137498855591,0.7155592441558838,0.7168353199958801,0.7136403322219849,0.7148997187614441,0.7161005735397339,0.7146087288856506,0.7149696350097656,0.7146248817443848,0.7146432995796204,0.7131059169769287,0.7148000597953796,0.7150968909263611,0.7137098908424377,0.7142110466957092,0.7152891159057617,0.7122789621353149,0.7154564261436462,0.7135462164878845,0.7130016684532166,0.7080599665641785,0.7086564898490906,0.7120880484580994,0.7087005972862244,0.7076985239982605,0.7063706517219543,0.7074818015098572,0.7035581469535828,0.7055148482322693,0.7031108736991882,0.7060140371322632,0.7002201080322266,0.7006456851959229,0.6998299956321716,0.6960261464118958,0.6976232528686523,0.6967369318008423,0.6944879293441772,0.6909999847412109,0.6920925378799438,0.6906751990318298,0.6854162216186523,0.681817889213562,0.679504930973053,0.678469717502594,0.675911545753479,0.6734433770179749,0.6669453382492065,0.6657648682594299,0.659804105758667,0.6594244241714478,0.6544651985168457,0.6508369445800781,0.6431736350059509,0.6390120983123779,0.6323855519294739,0.6299350261688232,0.6218974590301514,0.6139681935310364,0.6056180000305176,0.5961329340934753,0.5902202129364014,0.5824422240257263,0.576514482498169,0.5661187767982483,0.5583168864250183,0.5543948411941528,0.542391300201416,0.5367187261581421,0.5384708046913147,0.527776837348938,0.5243808627128601,0.5193173885345459,0.512216329574585,0.4997919797897339,0.4996011257171631,0.49099159240722656,0.4802479147911072,0.48030775785446167,0.47913697361946106,0.4694603681564331,0.4603118598461151,0.45992252230644226,0.4563547372817993,0.4546334147453308,0.4455370306968689,0.43773049116134644,0.43972790241241455,0.43277791142463684,0.4285721778869629,0.42267149686813354,0.421025812625885,0.41992467641830444,0.41625165939331055,0.4135717749595642,0.4016325771808624,0.4033125638961792,0.401726633310318,0.39679089188575745,0.39473241567611694,0.3932095766067505,0.3872280716896057,0.3856778144836426,0.38590767979621887,0.38203567266464233,0.387740820646286,0.3796515464782715,0.37727296352386475,0.380586177110672,0.39248520135879517,0.3827400505542755,0.38624730706214905,0.388036847114563,0.390026718378067,0.39749833941459656,0.4012733995914459,0.3927885890007019,0.3957598805427551,0.4021223187446594,0.4035179615020752,0.40821385383605957,0.4148058295249939],\"yaxis\":\"y\",\"type\":\"scatter\"}],                        {\"template\":{\"data\":{\"histogram2dcontour\":[{\"type\":\"histogram2dcontour\",\"colorbar\":{\"outlinewidth\":0,\"ticks\":\"\"},\"colorscale\":[[0.0,\"#0d0887\"],[0.1111111111111111,\"#46039f\"],[0.2222222222222222,\"#7201a8\"],[0.3333333333333333,\"#9c179e\"],[0.4444444444444444,\"#bd3786\"],[0.5555555555555556,\"#d8576b\"],[0.6666666666666666,\"#ed7953\"],[0.7777777777777778,\"#fb9f3a\"],[0.8888888888888888,\"#fdca26\"],[1.0,\"#f0f921\"]]}],\"choropleth\":[{\"type\":\"choropleth\",\"colorbar\":{\"outlinewidth\":0,\"ticks\":\"\"}}],\"histogram2d\":[{\"type\":\"histogram2d\",\"colorbar\":{\"outlinewidth\":0,\"ticks\":\"\"},\"colorscale\":[[0.0,\"#0d0887\"],[0.1111111111111111,\"#46039f\"],[0.2222222222222222,\"#7201a8\"],[0.3333333333333333,\"#9c179e\"],[0.4444444444444444,\"#bd3786\"],[0.5555555555555556,\"#d8576b\"],[0.6666666666666666,\"#ed7953\"],[0.7777777777777778,\"#fb9f3a\"],[0.8888888888888888,\"#fdca26\"],[1.0,\"#f0f921\"]]}],\"heatmap\":[{\"type\":\"heatmap\",\"colorbar\":{\"outlinewidth\":0,\"ticks\":\"\"},\"colorscale\":[[0.0,\"#0d0887\"],[0.1111111111111111,\"#46039f\"],[0.2222222222222222,\"#7201a8\"],[0.3333333333333333,\"#9c179e\"],[0.4444444444444444,\"#bd3786\"],[0.5555555555555556,\"#d8576b\"],[0.6666666666666666,\"#ed7953\"],[0.7777777777777778,\"#fb9f3a\"],[0.8888888888888888,\"#fdca26\"],[1.0,\"#f0f921\"]]}],\"heatmapgl\":[{\"type\":\"heatmapgl\",\"colorbar\":{\"outlinewidth\":0,\"ticks\":\"\"},\"colorscale\":[[0.0,\"#0d0887\"],[0.1111111111111111,\"#46039f\"],[0.2222222222222222,\"#7201a8\"],[0.3333333333333333,\"#9c179e\"],[0.4444444444444444,\"#bd3786\"],[0.5555555555555556,\"#d8576b\"],[0.6666666666666666,\"#ed7953\"],[0.7777777777777778,\"#fb9f3a\"],[0.8888888888888888,\"#fdca26\"],[1.0,\"#f0f921\"]]}],\"contourcarpet\":[{\"type\":\"contourcarpet\",\"colorbar\":{\"outlinewidth\":0,\"ticks\":\"\"}}],\"contour\":[{\"type\":\"contour\",\"colorbar\":{\"outlinewidth\":0,\"ticks\":\"\"},\"colorscale\":[[0.0,\"#0d0887\"],[0.1111111111111111,\"#46039f\"],[0.2222222222222222,\"#7201a8\"],[0.3333333333333333,\"#9c179e\"],[0.4444444444444444,\"#bd3786\"],[0.5555555555555556,\"#d8576b\"],[0.6666666666666666,\"#ed7953\"],[0.7777777777777778,\"#fb9f3a\"],[0.8888888888888888,\"#fdca26\"],[1.0,\"#f0f921\"]]}],\"surface\":[{\"type\":\"surface\",\"colorbar\":{\"outlinewidth\":0,\"ticks\":\"\"},\"colorscale\":[[0.0,\"#0d0887\"],[0.1111111111111111,\"#46039f\"],[0.2222222222222222,\"#7201a8\"],[0.3333333333333333,\"#9c179e\"],[0.4444444444444444,\"#bd3786\"],[0.5555555555555556,\"#d8576b\"],[0.6666666666666666,\"#ed7953\"],[0.7777777777777778,\"#fb9f3a\"],[0.8888888888888888,\"#fdca26\"],[1.0,\"#f0f921\"]]}],\"mesh3d\":[{\"type\":\"mesh3d\",\"colorbar\":{\"outlinewidth\":0,\"ticks\":\"\"}}],\"scatter\":[{\"fillpattern\":{\"fillmode\":\"overlay\",\"size\":10,\"solidity\":0.2},\"type\":\"scatter\"}],\"parcoords\":[{\"type\":\"parcoords\",\"line\":{\"colorbar\":{\"outlinewidth\":0,\"ticks\":\"\"}}}],\"scatterpolargl\":[{\"type\":\"scatterpolargl\",\"marker\":{\"colorbar\":{\"outlinewidth\":0,\"ticks\":\"\"}}}],\"bar\":[{\"error_x\":{\"color\":\"#2a3f5f\"},\"error_y\":{\"color\":\"#2a3f5f\"},\"marker\":{\"line\":{\"color\":\"#E5ECF6\",\"width\":0.5},\"pattern\":{\"fillmode\":\"overlay\",\"size\":10,\"solidity\":0.2}},\"type\":\"bar\"}],\"scattergeo\":[{\"type\":\"scattergeo\",\"marker\":{\"colorbar\":{\"outlinewidth\":0,\"ticks\":\"\"}}}],\"scatterpolar\":[{\"type\":\"scatterpolar\",\"marker\":{\"colorbar\":{\"outlinewidth\":0,\"ticks\":\"\"}}}],\"histogram\":[{\"marker\":{\"pattern\":{\"fillmode\":\"overlay\",\"size\":10,\"solidity\":0.2}},\"type\":\"histogram\"}],\"scattergl\":[{\"type\":\"scattergl\",\"marker\":{\"colorbar\":{\"outlinewidth\":0,\"ticks\":\"\"}}}],\"scatter3d\":[{\"type\":\"scatter3d\",\"line\":{\"colorbar\":{\"outlinewidth\":0,\"ticks\":\"\"}},\"marker\":{\"colorbar\":{\"outlinewidth\":0,\"ticks\":\"\"}}}],\"scattermapbox\":[{\"type\":\"scattermapbox\",\"marker\":{\"colorbar\":{\"outlinewidth\":0,\"ticks\":\"\"}}}],\"scatterternary\":[{\"type\":\"scatterternary\",\"marker\":{\"colorbar\":{\"outlinewidth\":0,\"ticks\":\"\"}}}],\"scattercarpet\":[{\"type\":\"scattercarpet\",\"marker\":{\"colorbar\":{\"outlinewidth\":0,\"ticks\":\"\"}}}],\"carpet\":[{\"aaxis\":{\"endlinecolor\":\"#2a3f5f\",\"gridcolor\":\"white\",\"linecolor\":\"white\",\"minorgridcolor\":\"white\",\"startlinecolor\":\"#2a3f5f\"},\"baxis\":{\"endlinecolor\":\"#2a3f5f\",\"gridcolor\":\"white\",\"linecolor\":\"white\",\"minorgridcolor\":\"white\",\"startlinecolor\":\"#2a3f5f\"},\"type\":\"carpet\"}],\"table\":[{\"cells\":{\"fill\":{\"color\":\"#EBF0F8\"},\"line\":{\"color\":\"white\"}},\"header\":{\"fill\":{\"color\":\"#C8D4E3\"},\"line\":{\"color\":\"white\"}},\"type\":\"table\"}],\"barpolar\":[{\"marker\":{\"line\":{\"color\":\"#E5ECF6\",\"width\":0.5},\"pattern\":{\"fillmode\":\"overlay\",\"size\":10,\"solidity\":0.2}},\"type\":\"barpolar\"}],\"pie\":[{\"automargin\":true,\"type\":\"pie\"}]},\"layout\":{\"autotypenumbers\":\"strict\",\"colorway\":[\"#636efa\",\"#EF553B\",\"#00cc96\",\"#ab63fa\",\"#FFA15A\",\"#19d3f3\",\"#FF6692\",\"#B6E880\",\"#FF97FF\",\"#FECB52\"],\"font\":{\"color\":\"#2a3f5f\"},\"hovermode\":\"closest\",\"hoverlabel\":{\"align\":\"left\"},\"paper_bgcolor\":\"white\",\"plot_bgcolor\":\"#E5ECF6\",\"polar\":{\"bgcolor\":\"#E5ECF6\",\"angularaxis\":{\"gridcolor\":\"white\",\"linecolor\":\"white\",\"ticks\":\"\"},\"radialaxis\":{\"gridcolor\":\"white\",\"linecolor\":\"white\",\"ticks\":\"\"}},\"ternary\":{\"bgcolor\":\"#E5ECF6\",\"aaxis\":{\"gridcolor\":\"white\",\"linecolor\":\"white\",\"ticks\":\"\"},\"baxis\":{\"gridcolor\":\"white\",\"linecolor\":\"white\",\"ticks\":\"\"},\"caxis\":{\"gridcolor\":\"white\",\"linecolor\":\"white\",\"ticks\":\"\"}},\"coloraxis\":{\"colorbar\":{\"outlinewidth\":0,\"ticks\":\"\"}},\"colorscale\":{\"sequential\":[[0.0,\"#0d0887\"],[0.1111111111111111,\"#46039f\"],[0.2222222222222222,\"#7201a8\"],[0.3333333333333333,\"#9c179e\"],[0.4444444444444444,\"#bd3786\"],[0.5555555555555556,\"#d8576b\"],[0.6666666666666666,\"#ed7953\"],[0.7777777777777778,\"#fb9f3a\"],[0.8888888888888888,\"#fdca26\"],[1.0,\"#f0f921\"]],\"sequentialminus\":[[0.0,\"#0d0887\"],[0.1111111111111111,\"#46039f\"],[0.2222222222222222,\"#7201a8\"],[0.3333333333333333,\"#9c179e\"],[0.4444444444444444,\"#bd3786\"],[0.5555555555555556,\"#d8576b\"],[0.6666666666666666,\"#ed7953\"],[0.7777777777777778,\"#fb9f3a\"],[0.8888888888888888,\"#fdca26\"],[1.0,\"#f0f921\"]],\"diverging\":[[0,\"#8e0152\"],[0.1,\"#c51b7d\"],[0.2,\"#de77ae\"],[0.3,\"#f1b6da\"],[0.4,\"#fde0ef\"],[0.5,\"#f7f7f7\"],[0.6,\"#e6f5d0\"],[0.7,\"#b8e186\"],[0.8,\"#7fbc41\"],[0.9,\"#4d9221\"],[1,\"#276419\"]]},\"xaxis\":{\"gridcolor\":\"white\",\"linecolor\":\"white\",\"ticks\":\"\",\"title\":{\"standoff\":15},\"zerolinecolor\":\"white\",\"automargin\":true,\"zerolinewidth\":2},\"yaxis\":{\"gridcolor\":\"white\",\"linecolor\":\"white\",\"ticks\":\"\",\"title\":{\"standoff\":15},\"zerolinecolor\":\"white\",\"automargin\":true,\"zerolinewidth\":2},\"scene\":{\"xaxis\":{\"backgroundcolor\":\"#E5ECF6\",\"gridcolor\":\"white\",\"linecolor\":\"white\",\"showbackground\":true,\"ticks\":\"\",\"zerolinecolor\":\"white\",\"gridwidth\":2},\"yaxis\":{\"backgroundcolor\":\"#E5ECF6\",\"gridcolor\":\"white\",\"linecolor\":\"white\",\"showbackground\":true,\"ticks\":\"\",\"zerolinecolor\":\"white\",\"gridwidth\":2},\"zaxis\":{\"backgroundcolor\":\"#E5ECF6\",\"gridcolor\":\"white\",\"linecolor\":\"white\",\"showbackground\":true,\"ticks\":\"\",\"zerolinecolor\":\"white\",\"gridwidth\":2}},\"shapedefaults\":{\"line\":{\"color\":\"#2a3f5f\"}},\"annotationdefaults\":{\"arrowcolor\":\"#2a3f5f\",\"arrowhead\":0,\"arrowwidth\":1},\"geo\":{\"bgcolor\":\"white\",\"landcolor\":\"#E5ECF6\",\"subunitcolor\":\"white\",\"showland\":true,\"showlakes\":true,\"lakecolor\":\"white\"},\"title\":{\"x\":0.05},\"mapbox\":{\"style\":\"light\"}}},\"xaxis\":{\"anchor\":\"y\",\"domain\":[0.0,1.0],\"title\":{\"text\":\"x\"},\"type\":\"log\"},\"yaxis\":{\"anchor\":\"x\",\"domain\":[0.0,1.0],\"title\":{\"text\":\"y\"}},\"legend\":{\"tracegroupgap\":0},\"title\":{\"text\":\"Learning rate vs loss\"}},                        {\"responsive\": true}                    ).then(function(){\n",
       "                            \n",
       "var gd = document.getElementById('c89f79a6-b92f-4cfe-a3d6-bfeafe890c8c');\n",
       "var x = new MutationObserver(function (mutations, observer) {{\n",
       "        var display = window.getComputedStyle(gd).display;\n",
       "        if (!display || display === 'none') {{\n",
       "            console.log([gd, 'removed!']);\n",
       "            Plotly.purge(gd);\n",
       "            observer.disconnect();\n",
       "        }}\n",
       "}});\n",
       "\n",
       "// Listen for the removal of the full notebook cells\n",
       "var notebookContainer = gd.closest('#notebook-container');\n",
       "if (notebookContainer) {{\n",
       "    x.observe(notebookContainer, {childList: true});\n",
       "}}\n",
       "\n",
       "// Listen for the clearing of the current output cell\n",
       "var outputEl = gd.closest('.output');\n",
       "if (outputEl) {{\n",
       "    x.observe(outputEl, {childList: true});\n",
       "}}\n",
       "\n",
       "                        })                };                });            </script>        </div>"
      ]
     },
     "metadata": {},
     "output_type": "display_data"
    }
   ],
   "source": [
    "import plotly.express as px\n",
    "\n",
    "fig = px.line(x=lrs, y=history.history[\"loss\"], title='Learning rate vs loss', log_x=True)\n",
    "fig.show()"
   ]
  },
  {
   "cell_type": "code",
   "execution_count": 25,
   "id": "fd6f3f46",
   "metadata": {
    "execution": {
     "iopub.execute_input": "2022-08-28T14:24:50.416844Z",
     "iopub.status.busy": "2022-08-28T14:24:50.416011Z",
     "iopub.status.idle": "2022-08-28T14:24:50.989334Z",
     "shell.execute_reply": "2022-08-28T14:24:50.988420Z"
    },
    "papermill": {
     "duration": 0.587348,
     "end_time": "2022-08-28T14:24:50.992329",
     "exception": false,
     "start_time": "2022-08-28T14:24:50.404981",
     "status": "completed"
    },
    "tags": []
   },
   "outputs": [
    {
     "data": {
      "text/plain": [
       "<matplotlib.legend.Legend at 0x7f12033db290>"
      ]
     },
     "execution_count": 25,
     "metadata": {},
     "output_type": "execute_result"
    },
    {
     "data": {
      "image/png": "[encoded data removed]",
      "text/plain": [
       "<Figure size 1080x1080 with 2 Axes>"
      ]
     },
     "metadata": {},
     "output_type": "display_data"
    }
   ],
   "source": [
    "fig, axs = plt.subplots(2, 1, figsize=(15,15))\n",
    "axs[0].plot(history.history['loss'])\n",
    "axs[0].plot(history.history['val_loss'])\n",
    "axs[0].title.set_text('Training Loss vs Validation Loss')\n",
    "axs[0].set_xlabel('Epochs')\n",
    "axs[0].set_ylabel('Loss')\n",
    "axs[0].legend(['Train','Val'])\n",
    "axs[1].plot(history.history['accuracy'])\n",
    "axs[1].plot(history.history['val_accuracy'])\n",
    "axs[1].title.set_text('Training Accuracy vs Validation Accuracy')\n",
    "axs[1].set_xlabel('Epochs')\n",
    "axs[1].set_ylabel('Accuracy')\n",
    "axs[1].legend(['Train', 'Val'])"
   ]
  },
  {
   "cell_type": "markdown",
   "id": "a51a1791",
   "metadata": {
    "papermill": {
     "duration": 0.011407,
     "end_time": "2022-08-28T14:24:51.015062",
     "exception": false,
     "start_time": "2022-08-28T14:24:51.003655",
     "status": "completed"
    },
    "tags": []
   },
   "source": [
    "## Train again"
   ]
  },
  {
   "cell_type": "code",
   "execution_count": 26,
   "id": "7741f35f",
   "metadata": {
    "execution": {
     "iopub.execute_input": "2022-08-28T14:24:51.038048Z",
     "iopub.status.busy": "2022-08-28T14:24:51.037679Z",
     "iopub.status.idle": "2022-08-28T14:24:51.049704Z",
     "shell.execute_reply": "2022-08-28T14:24:51.048700Z"
    },
    "papermill": {
     "duration": 0.025885,
     "end_time": "2022-08-28T14:24:51.051704",
     "exception": false,
     "start_time": "2022-08-28T14:24:51.025819",
     "status": "completed"
    },
    "tags": []
   },
   "outputs": [],
   "source": [
    "model = Sequential([\n",
    "      layers.Dense(128, activation='relu'),\n",
    "      layers.Dropout(0.3),\n",
    "      layers.Dense(128, activation='relu'),\n",
    "      layers.Dropout(0.3),\n",
    "      layers.Dense(1, activation='sigmoid')\n",
    "  ])"
   ]
  },
  {
   "cell_type": "code",
   "execution_count": 27,
   "id": "c24dae8d",
   "metadata": {
    "execution": {
     "iopub.execute_input": "2022-08-28T14:24:51.074417Z",
     "iopub.status.busy": "2022-08-28T14:24:51.074154Z",
     "iopub.status.idle": "2022-08-28T14:24:51.226321Z",
     "shell.execute_reply": "2022-08-28T14:24:51.225328Z"
    },
    "papermill": {
     "duration": 0.166582,
     "end_time": "2022-08-28T14:24:51.228986",
     "exception": false,
     "start_time": "2022-08-28T14:24:51.062404",
     "status": "completed"
    },
    "tags": []
   },
   "outputs": [],
   "source": [
    "# es = EarlyStopping(monitor='val_loss', mode='min', verbose=1, patience=20, restore_best_weights=True)\n",
    "es = EarlyStopping(monitor='val_accuracy', verbose=1, patience=20, mode='max', restore_best_weights=True)\n",
    "\n",
    "LR = 1e-2\n",
    "EPOCHS = 250\n",
    "optim = Adam(learning_rate=LR, decay=LR / EPOCHS)\n",
    "\n",
    "model.compile(optimizer=optim, \n",
    "              loss=losses.binary_crossentropy, metrics=['accuracy'])"
   ]
  },
  {
   "cell_type": "code",
   "execution_count": 28,
   "id": "fa396508",
   "metadata": {
    "execution": {
     "iopub.execute_input": "2022-08-28T14:24:51.252492Z",
     "iopub.status.busy": "2022-08-28T14:24:51.251931Z",
     "iopub.status.idle": "2022-08-28T14:25:48.177572Z",
     "shell.execute_reply": "2022-08-28T14:25:48.176541Z"
    },
    "papermill": {
     "duration": 56.950775,
     "end_time": "2022-08-28T14:25:48.190920",
     "exception": false,
     "start_time": "2022-08-28T14:24:51.240145",
     "status": "completed"
    },
    "tags": []
   },
   "outputs": [
    {
     "name": "stdout",
     "output_type": "stream",
     "text": [
      "Restoring model weights from the end of the best epoch.\n",
      "Epoch 00113: early stopping\n",
      "CPU times: user 1min 14s, sys: 7.5 s, total: 1min 21s\n",
      "Wall time: 56.9 s\n"
     ]
    }
   ],
   "source": [
    "%%time\n",
    "history = model.fit(\n",
    "    train_features,\n",
    "    train_labels,\n",
    "    epochs=EPOCHS,\n",
    "    verbose=0,\n",
    "    validation_split = 0.2,\n",
    "    callbacks=[es],\n",
    "    class_weight=class_weight_dict)"
   ]
  },
  {
   "cell_type": "code",
   "execution_count": 29,
   "id": "4348c472",
   "metadata": {
    "execution": {
     "iopub.execute_input": "2022-08-28T14:25:48.215481Z",
     "iopub.status.busy": "2022-08-28T14:25:48.215165Z",
     "iopub.status.idle": "2022-08-28T14:26:14.207766Z",
     "shell.execute_reply": "2022-08-28T14:26:14.206781Z"
    },
    "papermill": {
     "duration": 26.007384,
     "end_time": "2022-08-28T14:26:14.210612",
     "exception": false,
     "start_time": "2022-08-28T14:25:48.203228",
     "status": "completed"
    },
    "tags": []
   },
   "outputs": [
    {
     "data": {
      "text/plain": [
       "<matplotlib.legend.Legend at 0x7f16ea0a51d0>"
      ]
     },
     "execution_count": 29,
     "metadata": {},
     "output_type": "execute_result"
    },
    {
     "data": {
      "image/png": "[encoded data removed]",
      "text/plain": [
       "<Figure size 1080x1080 with 2 Axes>"
      ]
     },
     "metadata": {},
     "output_type": "display_data"
    }
   ],
   "source": [
    "fig, axs = plt.subplots(2, 1, figsize=(15,15))\n",
    "axs[0].plot(history.history['loss'])\n",
    "axs[0].plot(history.history['val_loss'])\n",
    "axs[0].title.set_text('Training Loss vs Validation Loss')\n",
    "axs[0].set_xlabel('Epochs')\n",
    "axs[0].set_ylabel('Loss')\n",
    "axs[0].legend(['Train','Val'])\n",
    "axs[1].plot(history.history['accuracy'])\n",
    "axs[1].plot(history.history['val_accuracy'])\n",
    "axs[1].title.set_text('Training Accuracy vs Validation Accuracy')\n",
    "axs[1].set_xlabel('Epochs')\n",
    "axs[1].set_ylabel('Accuracy')\n",
    "axs[1].legend(['Train', 'Val'])"
   ]
  },
  {
   "cell_type": "code",
   "execution_count": 30,
   "id": "e5051e54",
   "metadata": {
    "execution": {
     "iopub.execute_input": "2022-08-28T14:26:14.238259Z",
     "iopub.status.busy": "2022-08-28T14:26:14.237648Z",
     "iopub.status.idle": "2022-08-28T14:26:15.117750Z",
     "shell.execute_reply": "2022-08-28T14:26:15.116800Z"
    },
    "papermill": {
     "duration": 0.896259,
     "end_time": "2022-08-28T14:26:15.119909",
     "exception": false,
     "start_time": "2022-08-28T14:26:14.223650",
     "status": "completed"
    },
    "tags": []
   },
   "outputs": [
    {
     "name": "stdout",
     "output_type": "stream",
     "text": [
      "[INFO] Calculating model accuracy\n",
      "208/208 [==============================] - 0s 2ms/step - loss: 0.2034 - accuracy: 0.9265\n",
      "89/89 [==============================] - 0s 2ms/step - loss: 0.2744 - accuracy: 0.9004\n",
      "Test Accuracy (on train dataset): 92.65016317367554\n",
      "Test Accuracy (on test dataset): 90.03521203994751\n"
     ]
    }
   ],
   "source": [
    "print(\"[INFO] Calculating model accuracy\")\n",
    "train_scores = model.evaluate(train_features, train_labels)\n",
    "test_scores = model.evaluate(test_features, test_labels)\n",
    "print(f\"Test Accuracy (on train dataset): {train_scores[1]*100}\")\n",
    "print(f\"Test Accuracy (on test dataset): {test_scores[1]*100}\")"
   ]
  },
  {
   "cell_type": "code",
   "execution_count": 31,
   "id": "2bb002e4",
   "metadata": {
    "execution": {
     "iopub.execute_input": "2022-08-28T14:26:15.149252Z",
     "iopub.status.busy": "2022-08-28T14:26:15.148806Z",
     "iopub.status.idle": "2022-08-28T14:26:15.396034Z",
     "shell.execute_reply": "2022-08-28T14:26:15.394585Z"
    },
    "papermill": {
     "duration": 0.265015,
     "end_time": "2022-08-28T14:26:15.398775",
     "exception": false,
     "start_time": "2022-08-28T14:26:15.133760",
     "status": "completed"
    },
    "tags": []
   },
   "outputs": [
    {
     "name": "stdout",
     "output_type": "stream",
     "text": [
      "              precision    recall  f1-score   support\n",
      "\n",
      "           0       0.96      0.84      0.89      1428\n",
      "           1       0.86      0.96      0.91      1412\n",
      "\n",
      "    accuracy                           0.90      2840\n",
      "   macro avg       0.91      0.90      0.90      2840\n",
      "weighted avg       0.91      0.90      0.90      2840\n",
      "\n"
     ]
    }
   ],
   "source": [
    "prediction = np.round(model.predict(test_features))\n",
    "print(classification_report(test_labels, prediction))"
   ]
  },
  {
   "cell_type": "code",
   "execution_count": 32,
   "id": "86a83475",
   "metadata": {
    "execution": {
     "iopub.execute_input": "2022-08-28T14:26:15.428510Z",
     "iopub.status.busy": "2022-08-28T14:26:15.428202Z",
     "iopub.status.idle": "2022-08-28T14:26:15.798364Z",
     "shell.execute_reply": "2022-08-28T14:26:15.797428Z"
    },
    "papermill": {
     "duration": 0.38715,
     "end_time": "2022-08-28T14:26:15.800497",
     "exception": false,
     "start_time": "2022-08-28T14:26:15.413347",
     "status": "completed"
    },
    "tags": []
   },
   "outputs": [
    {
     "name": "stdout",
     "output_type": "stream",
     "text": [
      "Actual is 0 and Prediction is 0:  1201\n",
      "Actual is 0 and Prediction is 1:  227\n",
      "Actual is 1 and Prediction is 0:  56\n",
      "Actual is 1 and Prediction is 1:  1356\n",
      "Total Correct Prediction: 2557 / 2840\n"
     ]
    },
    {
     "data": {
      "image/png": "[encoded data removed]",
      "text/plain": [
       "<Figure size 576x576 with 2 Axes>"
      ]
     },
     "metadata": {},
     "output_type": "display_data"
    }
   ],
   "source": [
    "test_predictions_baseline = model.predict(test_features)\n",
    "plot_cm(test_labels, test_predictions_baseline)\n",
    "# 0 is 'not stroke', 1 is 'stroke'"
   ]
  },
  {
   "cell_type": "code",
   "execution_count": null,
   "id": "f4b41e50",
   "metadata": {
    "papermill": {
     "duration": 0.013947,
     "end_time": "2022-08-28T14:26:15.828340",
     "exception": false,
     "start_time": "2022-08-28T14:26:15.814393",
     "status": "completed"
    },
    "tags": []
   },
   "outputs": [],
   "source": []
  }
 ],
 "metadata": {
  "kernelspec": {
   "display_name": "Python 3",
   "language": "python",
   "name": "python3"
  },
  "language_info": {
   "codemirror_mode": {
    "name": "ipython",
    "version": 3
   },
   "file_extension": ".py",
   "mimetype": "text/x-python",
   "name": "python",
   "nbconvert_exporter": "python",
   "pygments_lexer": "ipython3",
   "version": "3.7.12"
  },
  "papermill": {
   "default_parameters": {},
   "duration": 193.545575,
   "end_time": "2022-08-28T14:26:18.611822",
   "environment_variables": {},
   "exception": null,
   "input_path": "__notebook__.ipynb",
   "output_path": "__notebook__.ipynb",
   "parameters": {},
   "start_time": "2022-08-28T14:23:05.066247",
   "version": "2.3.4"
  }
 },
 "nbformat": 4,
 "nbformat_minor": 5
}
